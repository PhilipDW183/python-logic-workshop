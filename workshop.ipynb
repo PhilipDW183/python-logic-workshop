{
 "cells": [
  {
   "cell_type": "markdown",
   "metadata": {},
   "source": [
    "## PY03 - Introduction to Python Programming - Logic\n",
    "\n",
    "Learning Objectives:\n",
    "- if, else and elif statements\n",
    "- loops (while and for)\n",
    "- functions (briefly)\n",
    "- global and local variables (briefly)"
   ]
  },
  {
   "cell_type": "markdown",
   "metadata": {},
   "source": [
    "### Conditionals and If statements\n",
    "\n",
    "__NOTE:__  Python uses the following syntax:\n",
    "<br>\n",
    "Equals: $a == b$\n",
    "<br>\n",
    "Not Equals: $ a != b$\n",
    "<br>\n",
    "Less than: $a < b$ \n",
    "<br>\n",
    "Less than or equal to: $a <= b$\n",
    "<br>\n",
    "Greater than: $a > b$\n",
    "<br>\n",
    "Greater than or equal to: $a >= b$\n",
    "\n",
    "These can help you check if a condition is true or false.\n",
    "Try the following examples:"
   ]
  },
  {
   "cell_type": "code",
   "execution_count": 31,
   "metadata": {},
   "outputs": [
    {
     "name": "stdout",
     "output_type": "stream",
     "text": [
      "2\n"
     ]
    }
   ],
   "source": [
    "# assigning x a value\n",
    "x = 2\n",
    "print(x)\n",
    "#x = 'a'\n",
    "#print(x)"
   ]
  },
  {
   "cell_type": "code",
   "execution_count": 180,
   "metadata": {},
   "outputs": [
    {
     "data": {
      "text/plain": [
       "False"
      ]
     },
     "execution_count": 180,
     "metadata": {},
     "output_type": "execute_result"
    }
   ],
   "source": [
    "# check different conditions\n",
    "\"Remember to check them one at the time, as Python will only return an output for the last one.\"\n",
    "\n",
    "#x <= 1\n",
    "#x >= 1\n",
    "#x != 0\n",
    "#x > 5\n",
    "#x % 2 == 0\n",
    "#\"A\" in \"ALPHA\"\n",
    "#\"B\" not in \"ALPHA\"\n",
    "x % 2 == 1\n",
    "\n",
    "# Python will return True or False"
   ]
  },
  {
   "cell_type": "markdown",
   "metadata": {},
   "source": [
    "#### If, Else and Elif\n",
    "Python's Conditionals follow the same logic as a usual english conditional. Look at the example:\n",
    "<center> If I had money I would get me a BMW M2. Otherwise, I'd buy a bike. </center> You could also write this phrase as: <center> IF I had money, THEN I would buy a BMW, ELSE I would buy a bike. </center>\n",
    "Python's IF structure follows this scheme."
   ]
  },
  {
   "cell_type": "code",
   "execution_count": 45,
   "metadata": {
    "scrolled": true
   },
   "outputs": [
    {
     "name": "stdout",
     "output_type": "stream",
     "text": [
      "a equals b\n"
     ]
    }
   ],
   "source": [
    "# assign a and b values\n",
    "a = 10\n",
    "b = 10\n",
    "\n",
    "# add a condition\n",
    "if a == b:\n",
    "    # tell Python what to do if the condition is met\n",
    "    print(\"a equals b\")"
   ]
  },
  {
   "cell_type": "markdown",
   "metadata": {},
   "source": [
    "Now, let's add what to do when the condition isn't met."
   ]
  },
  {
   "cell_type": "code",
   "execution_count": 48,
   "metadata": {},
   "outputs": [
    {
     "name": "stdout",
     "output_type": "stream",
     "text": [
      "a equals b\n"
     ]
    }
   ],
   "source": [
    "# assign a and b values\n",
    "a = 10\n",
    "b = 10\n",
    "\n",
    "# add a condition\n",
    "if a == b:\n",
    "    # tell Python what to do if the condition is met\n",
    "    print(\"a equals b\")\n",
    "# if a is different from b \n",
    "else:\n",
    "    print(\"a does not equal b\")\n",
    "    # this message will be printed"
   ]
  },
  {
   "cell_type": "markdown",
   "metadata": {},
   "source": [
    "However, Python has another statement that we can use : **ELIF**.\n",
    "<br>\n",
    "This acts as another if and is equivalent to < else if > (it's practically a shortcut)."
   ]
  },
  {
   "cell_type": "code",
   "execution_count": 5,
   "metadata": {},
   "outputs": [
    {
     "name": "stdout",
     "output_type": "stream",
     "text": [
      "a is not equal to b nor smaller\n"
     ]
    }
   ],
   "source": [
    "# assign a and b values\n",
    "a = 11\n",
    "b = 10\n",
    "\n",
    "# add a condition\n",
    "if a == b:\n",
    "    # tell Python what to do if the condition is met\n",
    "    print(\"a equals b\")\n",
    "# if a is different from b and smaller\n",
    "elif a < b:\n",
    "    print(\"a is smaller than b\")\n",
    "else:\n",
    "    print(\"a is not equal to b nor smaller\")\n",
    "    # this message will be printed"
   ]
  },
  {
   "cell_type": "markdown",
   "metadata": {},
   "source": [
    "__NOTE:__ Both **ELSE** and **ELIF** must be at the same level with the corresponding **IF**."
   ]
  },
  {
   "cell_type": "code",
   "execution_count": 181,
   "metadata": {},
   "outputs": [
    {
     "ename": "IndentationError",
     "evalue": "expected an indented block (<ipython-input-181-66ac294720ca>, line 4)",
     "output_type": "error",
     "traceback": [
      "\u001b[1;36m  File \u001b[1;32m\"<ipython-input-181-66ac294720ca>\"\u001b[1;36m, line \u001b[1;32m4\u001b[0m\n\u001b[1;33m    print (\"a equals b\")\u001b[0m\n\u001b[1;37m        ^\u001b[0m\n\u001b[1;31mIndentationError\u001b[0m\u001b[1;31m:\u001b[0m expected an indented block\n"
     ]
    }
   ],
   "source": [
    "a = 5\n",
    "b = 6\n",
    "if a == b:\n",
    "print (\"a equals b\")"
   ]
  },
  {
   "cell_type": "markdown",
   "metadata": {},
   "source": [
    "#### Logical Operators - NOT / AND / OR\n",
    "- __and__ returns True if both statements are true;\n",
    "- __or__ returns True if one of the statements is true;\n",
    "- __not__ reverse the result, returns False if the result is true;\n",
    "\n",
    "If structures can also check multiple conditions using **and/or**. We will look at the following examples and change the assigned values for a, b and c to see the different outcomes.\n",
    "\n",
    "#### Precedence of Logical Operators\n",
    "1. __not__ \n",
    "\n",
    "2. __and__\n",
    "\n",
    "3. __or__"
   ]
  },
  {
   "cell_type": "code",
   "execution_count": 182,
   "metadata": {},
   "outputs": [
    {
     "name": "stdout",
     "output_type": "stream",
     "text": [
      "1\n",
      "a or b is even and c is positive.\n",
      "Both conditions are true.\n"
     ]
    }
   ],
   "source": [
    "# assign values to a, b and c\n",
    "a = 1\n",
    "b = 2\n",
    "c = 3\n",
    "\n",
    "# check different conditions\n",
    "if a > b and b > c:\n",
    "    print(\"Both conditions are True.\")\n",
    "    \n",
    "if a > b or a > c:\n",
    "    print(\"At least one of the conditions is True.\")\n",
    "    \n",
    "if not(a % 2 == 0): # If a is NOT even, it will be printed.\n",
    "    print(a)\n",
    "\n",
    "if a > b and a > c and b > c:\n",
    "    print(\"All conditions are true.\")\n",
    "    \n",
    "if a % 2 == 0 or b % 2 == 0 and c > 0: # Be careful which command will be evaluated first.\n",
    "    print(\"a or b is even and c is positive.\")\n",
    "\n",
    "if not(a > 100) and b < 3:\n",
    "    print(\"Both conditions are true.\")\n",
    "    \n",
    "if not(a + b < 10) or b < 0:\n",
    "    print(\"At least one of the conditions is true.\")\n",
    "    \n",
    "# if not(a + b > 10 and c > 0): Will this condition print anything?\n",
    "   # print (\"\")\n"
   ]
  },
  {
   "cell_type": "markdown",
   "metadata": {},
   "source": [
    "#### Format - Colon & Indentation\n",
    "\n",
    "The lines beginning with \"if\", \"else\" or \"elif\" end with a colon **:**\n",
    "<br>\n",
    "If statements require that the operations to be done within the statement to be written indented (4 spaces). If something is not indented, an indentation error will occur. You can use the TAB button to make the indentation if it doesn't come up automatically (it usually does)."
   ]
  },
  {
   "cell_type": "code",
   "execution_count": 184,
   "metadata": {},
   "outputs": [
    {
     "ename": "IndentationError",
     "evalue": "expected an indented block (<ipython-input-184-071ac1d9f9a6>, line 6)",
     "output_type": "error",
     "traceback": [
      "\u001b[1;36m  File \u001b[1;32m\"<ipython-input-184-071ac1d9f9a6>\"\u001b[1;36m, line \u001b[1;32m6\u001b[0m\n\u001b[1;33m    \"the next line isn't indented so it won't be executed even if the condition is true\"\u001b[0m\n\u001b[1;37m                                                                                       ^\u001b[0m\n\u001b[1;31mIndentationError\u001b[0m\u001b[1;31m:\u001b[0m expected an indented block\n"
     ]
    }
   ],
   "source": [
    "# assign values to variables\n",
    "a = 10\n",
    "b = 10\n",
    "\n",
    "if a == b:\n",
    "\"the next line isn't indented so it won't be executed even if the condition is true\"\n",
    "print (\"a equals b\")"
   ]
  },
  {
   "cell_type": "markdown",
   "metadata": {},
   "source": [
    "#### The Nested If\n",
    "It is possible to have multiple if statements within one single if."
   ]
  },
  {
   "cell_type": "code",
   "execution_count": 78,
   "metadata": {
    "scrolled": true
   },
   "outputs": [
    {
     "name": "stdout",
     "output_type": "stream",
     "text": [
      "b is odd\n",
      "a is greater than 10\n",
      "a is greater than 50\n"
     ]
    }
   ],
   "source": [
    "# assign a value to a\n",
    "a = 51\n",
    "b = 5\n",
    "\n",
    "if b % 2 == 1:\n",
    "    print (\"b is odd\")\n",
    "    if a > 10:\n",
    "        print(\"a is greater than 10\")\n",
    "        if a > 50:\n",
    "            print(\"a is greater than 50\")"
   ]
  },
  {
   "cell_type": "markdown",
   "metadata": {},
   "source": [
    "#### Example Problem"
   ]
  },
  {
   "cell_type": "markdown",
   "metadata": {},
   "source": [
    "Knowing the values for a, b and c, check to see if they can represent the lengths of a triangle. If so, mention which kind it is: equilateral, isosceles, straight-angled or scalene."
   ]
  },
  {
   "cell_type": "code",
   "execution_count": 89,
   "metadata": {},
   "outputs": [
    {
     "name": "stdout",
     "output_type": "stream",
     "text": [
      "It is a scalene triangle.\n"
     ]
    }
   ],
   "source": [
    "# assign values to our 'sides'\n",
    "a = 7\n",
    "b = 6\n",
    "c = 2\n",
    "\n",
    "\"First, to see if they could be sides, all must be positive.\"\n",
    "\"The condition for them to represent triangle sides is that no side is longer then the sum of the other two.\"\n",
    "\"this must be checked within the first <if> to be sure that you only deal with positive values\"\n",
    "\n",
    "if a <= 0 or b <= 0 or c <= 0:\n",
    "    print(\"They can't represent lengths.\")\n",
    "else:\n",
    "    if a >= b + c or b >= a + c or c >= a + b:\n",
    "        print(\"It is not a triangle.\")\n",
    "    else:\n",
    "        \"Now, we know we can have a triangle, we are just trying to see what kind.\"\n",
    "        if a == b == c:\n",
    "            print(\"It is an equilateral triangle.\")\n",
    "        elif a == b or a == c or b == c:\n",
    "            print(\"It is an isosceles triangle.\")\n",
    "        elif a**2 == b**2 + c**2 or b**2 == c**2 + a**2 or c**2 == a**2 + b**2:\n",
    "            print(\"It is a right-angled triangle.\")\n",
    "        else:\n",
    "            print(\"It is a scalene triangle.\")"
   ]
  },
  {
   "cell_type": "markdown",
   "metadata": {},
   "source": [
    "### Loops\n",
    "There are two types of loops:\n",
    "- while loops\n",
    "- for loops\n",
    "\n",
    "__Format__\n",
    "<br>\n",
    "Loops have the same format as the if statement. Both **WHILE** and **FOR** will have a colon after the condition line and the block of code to loop over will be indented."
   ]
  },
  {
   "cell_type": "markdown",
   "metadata": {},
   "source": [
    "#### While Loop\n",
    "A while loop will repeat the instructions within the indented block of code as long as the condition is true."
   ]
  },
  {
   "cell_type": "code",
   "execution_count": 90,
   "metadata": {},
   "outputs": [
    {
     "name": "stdout",
     "output_type": "stream",
     "text": [
      "0\n",
      "1\n",
      "2\n",
      "3\n",
      "4\n",
      "5\n",
      "6\n",
      "7\n",
      "8\n",
      "9\n",
      "10\n"
     ]
    }
   ],
   "source": [
    "# initialise the variable\n",
    "x = 0\n",
    "\n",
    "# write the condition\n",
    "while x <= 10:\n",
    "    \"the following lines will be executed as long as x is smaller or equal than 10\"\n",
    "    print (x)\n",
    "    \"however, if there are no changes made to our variable, the loop will continue infinetely\"\n",
    "    \"so, in this case, we will increase x by one\"\n",
    "    x = x + 1\n",
    "    "
   ]
  },
  {
   "cell_type": "markdown",
   "metadata": {},
   "source": [
    "#### Infinite Loop\n",
    "As I mentioned, if there are no changes made to the variable, the loop will never end. This is what we would call an Infinite Loop."
   ]
  },
  {
   "cell_type": "code",
   "execution_count": 19,
   "metadata": {},
   "outputs": [],
   "source": [
    "#DO NOT TRY RUNNING THIS CODE\n",
    "#x = 0\n",
    "\n",
    "#while True:\n",
    " #   print (x)"
   ]
  },
  {
   "cell_type": "markdown",
   "metadata": {},
   "source": [
    "#### Break\n",
    "To exit an infinite loop you can use the **break** command."
   ]
  },
  {
   "cell_type": "code",
   "execution_count": 20,
   "metadata": {},
   "outputs": [
    {
     "name": "stdout",
     "output_type": "stream",
     "text": [
      "0\n"
     ]
    }
   ],
   "source": [
    "# initialise x\n",
    "x = 0\n",
    "\n",
    "# start the loop\n",
    "while True:\n",
    "    print(x)\n",
    "    # when reaching the break command, the code stops \n",
    "    break"
   ]
  },
  {
   "cell_type": "markdown",
   "metadata": {},
   "source": [
    "This command can also stop a loop that isn't infinite."
   ]
  },
  {
   "cell_type": "code",
   "execution_count": 91,
   "metadata": {},
   "outputs": [
    {
     "name": "stdout",
     "output_type": "stream",
     "text": [
      "0\n",
      "1\n",
      "2\n",
      "3\n",
      "4\n",
      "5\n"
     ]
    }
   ],
   "source": [
    "# initialise x\n",
    "x = 0\n",
    "\n",
    "# start the loop\n",
    "while x < 100:\n",
    "    print(x)\n",
    "  # add a condition\n",
    "    if x == 5:\n",
    "    # if the condition is met, stop the code\n",
    "        break\n",
    "    # if the condition isn't met, x will increase and the loop will continue\n",
    "    x += 1"
   ]
  },
  {
   "cell_type": "markdown",
   "metadata": {},
   "source": [
    "####  Example\n",
    "Now, let's do a simple exercise. We will calculate the sum of all numbers between 1 and 10.\n",
    "After running the code, try changing the code so you will only find the sum of the odd numbers smaller than 10."
   ]
  },
  {
   "cell_type": "code",
   "execution_count": 92,
   "metadata": {},
   "outputs": [
    {
     "name": "stdout",
     "output_type": "stream",
     "text": [
      "55\n"
     ]
    }
   ],
   "source": [
    "# initialise the variables\n",
    "x = 1\n",
    "s = 0\n",
    "\n",
    "# start the loop\n",
    "while x <= 10:\n",
    "    # add i to our sum\n",
    "    s = s + x\n",
    "    # increase the variable\n",
    "    x += 1\n",
    "    \n",
    "print(s)"
   ]
  },
  {
   "cell_type": "markdown",
   "metadata": {},
   "source": [
    "#### For loop\n",
    "A **FOR** loop, in contrast to the WHILE loop, doesn't require you to increment a variable as it will do it itself. So, FOR a variable, x, in a certain list/ dictionary/ string, the variable will take every value in the list, in order. Look at the following examples:"
   ]
  },
  {
   "cell_type": "code",
   "execution_count": 99,
   "metadata": {},
   "outputs": [
    {
     "name": "stdout",
     "output_type": "stream",
     "text": [
      "red\n",
      "blue\n",
      "yellow\n",
      "green\n",
      "orange\n"
     ]
    }
   ],
   "source": [
    "# define a list\n",
    "colours = [\"red\", \"blue\", \"yellow\",\"green\",\"orange\"]\n",
    "\n",
    "# loop over the list\n",
    "for x in colours:\n",
    "    print(x)"
   ]
  },
  {
   "cell_type": "markdown",
   "metadata": {},
   "source": [
    "You can also loop over strings."
   ]
  },
  {
   "cell_type": "code",
   "execution_count": 24,
   "metadata": {},
   "outputs": [
    {
     "name": "stdout",
     "output_type": "stream",
     "text": [
      "r\n",
      "e\n",
      "d\n"
     ]
    }
   ],
   "source": [
    "for x in \"red\":\n",
    "    print(x)"
   ]
  },
  {
   "cell_type": "markdown",
   "metadata": {},
   "source": [
    "A very useful way of looping over numbers is by using the **Range** function. There are 2 ways this can be done:\n",
    "1. **for i in range(n)**, loop starts at **0** and ends at **n-1**\n",
    "2. **for i in range(x,n)**, the loop starts at **x** and ends at **n-1**\n",
    "<br>\n",
    "\n",
    "**!** Remember that the range's upper bound is exclusive.\n",
    "<br>\n",
    "__NOTE:__ Python starts counting at 0!\n",
    "\n",
    "<br>\n",
    "For example:\n"
   ]
  },
  {
   "cell_type": "code",
   "execution_count": 25,
   "metadata": {},
   "outputs": [
    {
     "name": "stdout",
     "output_type": "stream",
     "text": [
      "0\n",
      "1\n",
      "2\n",
      "3\n",
      "4\n",
      "5\n",
      "6\n",
      "7\n",
      "8\n",
      "9\n"
     ]
    }
   ],
   "source": [
    "for i in range(10):\n",
    "    print(i)"
   ]
  },
  {
   "cell_type": "code",
   "execution_count": 26,
   "metadata": {},
   "outputs": [
    {
     "name": "stdout",
     "output_type": "stream",
     "text": [
      "5\n",
      "6\n",
      "7\n",
      "8\n",
      "9\n"
     ]
    }
   ],
   "source": [
    "for i in range(5,10):\n",
    "    print(i)"
   ]
  },
  {
   "cell_type": "markdown",
   "metadata": {},
   "source": [
    "Below, we will calculate the sum of the first 10 numbers (as we did using a while loop before). We can see that this time there's no need to increment the i.\n"
   ]
  },
  {
   "cell_type": "code",
   "execution_count": 93,
   "metadata": {},
   "outputs": [
    {
     "name": "stdout",
     "output_type": "stream",
     "text": [
      "55\n"
     ]
    }
   ],
   "source": [
    "# initialise the sum variable\n",
    "s = 0\n",
    "# begin the loop\n",
    "for i in range(1,11):\n",
    "    # add the number to our sum\n",
    "    s = s + i\n",
    "print(s)\n"
   ]
  },
  {
   "cell_type": "markdown",
   "metadata": {},
   "source": [
    "Let's adjust the code to calculate the sum of odd numbers only."
   ]
  },
  {
   "cell_type": "code",
   "execution_count": 97,
   "metadata": {},
   "outputs": [
    {
     "name": "stdout",
     "output_type": "stream",
     "text": [
      "25\n"
     ]
    }
   ],
   "source": [
    "# initialise the sum variable\n",
    "s = 0 \n",
    "# begin the loop\n",
    "for i in range(1,11):\n",
    "    # add the number to our sum\n",
    "    if i % 2 == 1:\n",
    "         s = s + i\n",
    "print(s)\n"
   ]
  },
  {
   "cell_type": "markdown",
   "metadata": {},
   "source": [
    "#### Break \n",
    "This can be used as it was in the **while** when a certain element si found or to keep the looping on."
   ]
  },
  {
   "cell_type": "code",
   "execution_count": 100,
   "metadata": {},
   "outputs": [
    {
     "name": "stdout",
     "output_type": "stream",
     "text": [
      "red\n",
      "blue\n",
      "yellow\n"
     ]
    }
   ],
   "source": [
    "# our loop will go over our list of colours we defined before (make sure you run that cell first)\n",
    "for i in colours:\n",
    "    # one colour at the time will be printed\n",
    "    print(i)\n",
    "    # when i reaches the colour yellow, break will stop the loop\n",
    "    if i == \"yellow\":\n",
    "        break\n",
    "    "
   ]
  },
  {
   "cell_type": "markdown",
   "metadata": {},
   "source": [
    "#### Nested Loops\n",
    "There is possible to have a loop in another loop. "
   ]
  },
  {
   "cell_type": "code",
   "execution_count": 102,
   "metadata": {},
   "outputs": [
    {
     "name": "stdout",
     "output_type": "stream",
     "text": [
      "red shirt\n",
      "red socks\n",
      "blue shirt\n",
      "blue socks\n",
      "yellow shirt\n",
      "yellow socks\n",
      "green shirt\n",
      "green socks\n",
      "orange shirt\n",
      "orange socks\n"
     ]
    }
   ],
   "source": [
    "# defining two lists\n",
    "colours = [\"red\", \"blue\", \"yellow\",\"green\",\"orange\"]\n",
    "clothes = [\"shirt\", \"socks\"]\n",
    "\n",
    "for x in colours: # first, we'll go over the first list \n",
    "      for y in clothes: # now, we'll go over the second one\n",
    "        print(x, y)"
   ]
  },
  {
   "cell_type": "markdown",
   "metadata": {},
   "source": [
    "#### Example Problem\n",
    "Try creating an output that will display:\n",
    "<br>*\n",
    "<br>**\n",
    "<br>***\n",
    "\n",
    "\n",
    "\n"
   ]
  },
  {
   "cell_type": "code",
   "execution_count": 186,
   "metadata": {},
   "outputs": [
    {
     "name": "stdout",
     "output_type": "stream",
     "text": [
      "\n",
      "*\n",
      "**\n",
      "***\n"
     ]
    }
   ],
   "source": [
    "# start the first loop\n",
    "for i in range(4): \n",
    "    \"We will go up to 4 as i represents the number of the line containing '*'\"\n",
    "    # start the second loop\n",
    "    \"This loop will control the columns\"\n",
    "    for j in range(i):            \n",
    "        print('*', end = '')  \n",
    "    print()      \n",
    "    "
   ]
  },
  {
   "cell_type": "markdown",
   "metadata": {},
   "source": [
    "Try modifying the code above to get different shapes:\n",
    "1. 3 additional lines below the existing ones, containing 4,5 and respectively 6 * on the line.\n",
    "2. 3 * on the first line, 2 on the second and one on the third."
   ]
  },
  {
   "cell_type": "markdown",
   "metadata": {},
   "source": [
    "### Functions\n",
    "\n",
    "Functions are extremely useful when you have a code that requires you to calculate something over and over again. You can create algorithms (for calculating sums, averages, standard deviations and more other) and call upon them when you need them."
   ]
  },
  {
   "cell_type": "markdown",
   "metadata": {},
   "source": [
    "#### Defining a function\n",
    "To define a function you will need to write **def function_name(_input variables_)**. \n",
    "\n",
    "<br>\n",
    "For example, using the code we wrote for our triangle problem, we can create a function that will check any a, b, c to see what kind of triangle it is (if it can be one)."
   ]
  },
  {
   "cell_type": "code",
   "execution_count": 125,
   "metadata": {},
   "outputs": [],
   "source": [
    "def my_function(a,b,c):\n",
    "    if a <= 0 or b <= 0 or c <= 0:\n",
    "        print(\"They can't represent lengths.\")\n",
    "    else:\n",
    "        if a >= b + c or b >= a + c or c >= a + b:\n",
    "            print(\"It is not a triangle.\")\n",
    "        else:\n",
    "            \"Now, we know we can have a triangle, we are just trying to see what kind.\"\n",
    "            if a == b == c:\n",
    "                print(\"It is an equilateral triangle.\")\n",
    "            elif a == b or a == c or b == c:\n",
    "                print(\"It is an isosceles triangle.\")\n",
    "            elif a**2 == b**2 + c**2 or b**2 == c**2 + a**2 or c**2 == a**2 + b**2:\n",
    "                print(\"It is a right-angled triangle.\")\n",
    "            else:\n",
    "                print(\"It is a scalene triangle.\")"
   ]
  },
  {
   "cell_type": "markdown",
   "metadata": {},
   "source": [
    "#### Calling a function\n",
    "Now, running the code above produced no output. But, it created the function which we will be able to call now for any set of variables we want. Try changing the numbers in the parantheses to see if the function works."
   ]
  },
  {
   "cell_type": "code",
   "execution_count": 126,
   "metadata": {},
   "outputs": [
    {
     "name": "stdout",
     "output_type": "stream",
     "text": [
      "It is a right-angled triangle.\n",
      "It is an equilateral triangle.\n"
     ]
    }
   ],
   "source": [
    "my_function(3,4,5)\n",
    "my_function(1,1,1)"
   ]
  },
  {
   "cell_type": "markdown",
   "metadata": {},
   "source": [
    "#### Returnig values\n",
    "A function can also return values."
   ]
  },
  {
   "cell_type": "code",
   "execution_count": 135,
   "metadata": {},
   "outputs": [],
   "source": [
    "def returnFunction(x):\n",
    "    return x + 5"
   ]
  },
  {
   "cell_type": "code",
   "execution_count": 139,
   "metadata": {},
   "outputs": [
    {
     "name": "stdout",
     "output_type": "stream",
     "text": [
      "7\n"
     ]
    }
   ],
   "source": [
    "print(returnFunction(2))"
   ]
  },
  {
   "cell_type": "markdown",
   "metadata": {},
   "source": [
    "### Global and Local Variables\n",
    "When dealing with functions, any variable that exists only in the function in called a **Local Variable**. This kind of variable can be used only in the function.\n",
    "<br>\n",
    "**Global Variables** are the ones that exist outside a function. This kind of variable can be used in the function too."
   ]
  },
  {
   "cell_type": "markdown",
   "metadata": {},
   "source": [
    "_Trying local variables outside the function._"
   ]
  },
  {
   "cell_type": "code",
   "execution_count": 188,
   "metadata": {},
   "outputs": [
    {
     "data": {
      "text/plain": [
       "100"
      ]
     },
     "execution_count": 188,
     "metadata": {},
     "output_type": "execute_result"
    }
   ],
   "source": [
    "# define a function\n",
    "def function():\n",
    "    \"x is a local variable (it only exists within our function), we will give x the value 100\"\n",
    "    x = 100\n",
    "    # this function returns the value of x\n",
    "    return x\n",
    "\n",
    "# calling the function\n",
    "function()\n",
    "\n",
    "# now, we will try to do an operation with x outside the function\n",
    "#print (x + 100) # because x is a local variable in the function, it won't work"
   ]
  },
  {
   "cell_type": "markdown",
   "metadata": {},
   "source": [
    "_Using a global variable in the function._"
   ]
  },
  {
   "cell_type": "code",
   "execution_count": 10,
   "metadata": {},
   "outputs": [
    {
     "name": "stdout",
     "output_type": "stream",
     "text": [
      "x is a global variable\n"
     ]
    }
   ],
   "source": [
    "# assigning x a value as a global variable (outside the function)\n",
    "x = \"global variable\"\n",
    "\n",
    "\n",
    "# defining a function\n",
    "def function_2():\n",
    "    # we can use x because it's global in the function\n",
    "    print(\"x is a \" + x)\n",
    "\n",
    "        \n",
    "# calling the function        \n",
    "function_2()\n"
   ]
  },
  {
   "cell_type": "markdown",
   "metadata": {},
   "source": [
    "### More Problems\n",
    "1. Write an algorithm that calculates the product of the first 15 even numbers.\n",
    "2. Create a function that checks if a given number is a multiple of 4.\n",
    "3. Create a function that checks if a number is prime."
   ]
  }
 ],
 "metadata": {
  "kernelspec": {
   "display_name": "Python 3",
   "language": "python",
   "name": "python3"
  },
  "language_info": {
   "codemirror_mode": {
    "name": "ipython",
    "version": 3
   },
   "file_extension": ".py",
   "mimetype": "text/x-python",
   "name": "python",
   "nbconvert_exporter": "python",
   "pygments_lexer": "ipython3",
   "version": "3.7.4"
  }
 },
 "nbformat": 4,
 "nbformat_minor": 2
}
